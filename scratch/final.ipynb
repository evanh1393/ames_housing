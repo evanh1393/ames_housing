{
 "cells": [
  {
   "cell_type": "markdown",
   "metadata": {},
   "source": [
    "<img src=\"http://imgur.com/1ZcRyrc.png\" style=\"float: left; margin: 20px; height: 55px\">\n",
    "\n",
    "# Lab 3.02: Statistical Modeling and Model Validation\n",
    "\n",
    "> Authors: Tim Book, Matt Brems\n",
    "\n",
    "---"
   ]
  },
  {
   "cell_type": "markdown",
   "metadata": {},
   "source": [
    "## Objective\n",
    "The goal of this lab is to guide you through the modeling workflow. In this lesson, you will follow all best practices when slicing your data and validating your model. The goal of this lab is not necessarily to build the best model you can, but to build and evaluate a model, and interpret its results."
   ]
  },
  {
   "cell_type": "markdown",
   "metadata": {},
   "source": [
    "## Imports"
   ]
  },
  {
   "cell_type": "code",
   "execution_count": 2,
   "metadata": {},
   "outputs": [],
   "source": [
    "# Import everything you need here.\n",
    "# You may want to return to this cell to import more things later in the lab.\n",
    "# DO NOT COPY AND PASTE FROM OUR CLASS SLIDES!\n",
    "# Muscle memory is important!\n",
    "import numpy as np\n",
    "import pandas as pd\n",
    "import seaborn as sns\n",
    "import matplotlib.pyplot as plt\n",
    "from sklearn.linear_model import LinearRegression\n",
    "from sklearn.model_selection import train_test_split, cross_val_score, cross_val_predict\n",
    "from sklearn.metrics import r2_score\n",
    "from sklearn.preprocessing import StandardScaler, PolynomialFeatures\n",
    "from scipy import stats\n",
    "import statsmodels.api as sm\n",
    "from datetime import date"
   ]
  },
  {
   "cell_type": "markdown",
   "metadata": {},
   "source": [
    "## Read Data\n",
    "The `citibike` dataset consists of Citi Bike ridership data for over 224,000 rides in February 2014."
   ]
  },
  {
   "cell_type": "code",
   "execution_count": 3,
   "metadata": {},
   "outputs": [],
   "source": [
    "# Read in the citibike data in the data folder in this repository.\n",
    "citibike = pd.read_csv('./data/citibike_feb2014.csv')"
   ]
  },
  {
   "cell_type": "markdown",
   "metadata": {},
   "source": [
    "## Explore the data\n",
    "Use this space to familiarize yourself with the data.\n",
    "\n",
    "Convince yourself there are no issues with the data. If you find any issues, clean them here."
   ]
  },
  {
   "cell_type": "code",
   "execution_count": 4,
   "metadata": {},
   "outputs": [
    {
     "data": {
      "text/html": [
       "<div>\n",
       "<style scoped>\n",
       "    .dataframe tbody tr th:only-of-type {\n",
       "        vertical-align: middle;\n",
       "    }\n",
       "\n",
       "    .dataframe tbody tr th {\n",
       "        vertical-align: top;\n",
       "    }\n",
       "\n",
       "    .dataframe thead th {\n",
       "        text-align: right;\n",
       "    }\n",
       "</style>\n",
       "<table border=\"1\" class=\"dataframe\">\n",
       "  <thead>\n",
       "    <tr style=\"text-align: right;\">\n",
       "      <th></th>\n",
       "      <th>tripduration</th>\n",
       "      <th>starttime</th>\n",
       "      <th>stoptime</th>\n",
       "      <th>start station id</th>\n",
       "      <th>start station name</th>\n",
       "      <th>start station latitude</th>\n",
       "      <th>start station longitude</th>\n",
       "      <th>end station id</th>\n",
       "      <th>end station name</th>\n",
       "      <th>end station latitude</th>\n",
       "      <th>end station longitude</th>\n",
       "      <th>bikeid</th>\n",
       "      <th>usertype</th>\n",
       "      <th>birth year</th>\n",
       "      <th>gender</th>\n",
       "    </tr>\n",
       "  </thead>\n",
       "  <tbody>\n",
       "    <tr>\n",
       "      <th>0</th>\n",
       "      <td>382</td>\n",
       "      <td>2014-02-01 00:00:00</td>\n",
       "      <td>2014-02-01 00:06:22</td>\n",
       "      <td>294</td>\n",
       "      <td>Washington Square E</td>\n",
       "      <td>40.730494</td>\n",
       "      <td>-73.995721</td>\n",
       "      <td>265</td>\n",
       "      <td>Stanton St &amp; Chrystie St</td>\n",
       "      <td>40.722293</td>\n",
       "      <td>-73.991475</td>\n",
       "      <td>21101</td>\n",
       "      <td>Subscriber</td>\n",
       "      <td>1991</td>\n",
       "      <td>1</td>\n",
       "    </tr>\n",
       "    <tr>\n",
       "      <th>1</th>\n",
       "      <td>372</td>\n",
       "      <td>2014-02-01 00:00:03</td>\n",
       "      <td>2014-02-01 00:06:15</td>\n",
       "      <td>285</td>\n",
       "      <td>Broadway &amp; E 14 St</td>\n",
       "      <td>40.734546</td>\n",
       "      <td>-73.990741</td>\n",
       "      <td>439</td>\n",
       "      <td>E 4 St &amp; 2 Ave</td>\n",
       "      <td>40.726281</td>\n",
       "      <td>-73.989780</td>\n",
       "      <td>15456</td>\n",
       "      <td>Subscriber</td>\n",
       "      <td>1979</td>\n",
       "      <td>2</td>\n",
       "    </tr>\n",
       "    <tr>\n",
       "      <th>2</th>\n",
       "      <td>591</td>\n",
       "      <td>2014-02-01 00:00:09</td>\n",
       "      <td>2014-02-01 00:10:00</td>\n",
       "      <td>247</td>\n",
       "      <td>Perry St &amp; Bleecker St</td>\n",
       "      <td>40.735354</td>\n",
       "      <td>-74.004831</td>\n",
       "      <td>251</td>\n",
       "      <td>Mott St &amp; Prince St</td>\n",
       "      <td>40.723180</td>\n",
       "      <td>-73.994800</td>\n",
       "      <td>16281</td>\n",
       "      <td>Subscriber</td>\n",
       "      <td>1948</td>\n",
       "      <td>2</td>\n",
       "    </tr>\n",
       "    <tr>\n",
       "      <th>3</th>\n",
       "      <td>583</td>\n",
       "      <td>2014-02-01 00:00:32</td>\n",
       "      <td>2014-02-01 00:10:15</td>\n",
       "      <td>357</td>\n",
       "      <td>E 11 St &amp; Broadway</td>\n",
       "      <td>40.732618</td>\n",
       "      <td>-73.991580</td>\n",
       "      <td>284</td>\n",
       "      <td>Greenwich Ave &amp; 8 Ave</td>\n",
       "      <td>40.739017</td>\n",
       "      <td>-74.002638</td>\n",
       "      <td>17400</td>\n",
       "      <td>Subscriber</td>\n",
       "      <td>1981</td>\n",
       "      <td>1</td>\n",
       "    </tr>\n",
       "    <tr>\n",
       "      <th>4</th>\n",
       "      <td>223</td>\n",
       "      <td>2014-02-01 00:00:41</td>\n",
       "      <td>2014-02-01 00:04:24</td>\n",
       "      <td>401</td>\n",
       "      <td>Allen St &amp; Rivington St</td>\n",
       "      <td>40.720196</td>\n",
       "      <td>-73.989978</td>\n",
       "      <td>439</td>\n",
       "      <td>E 4 St &amp; 2 Ave</td>\n",
       "      <td>40.726281</td>\n",
       "      <td>-73.989780</td>\n",
       "      <td>19341</td>\n",
       "      <td>Subscriber</td>\n",
       "      <td>1990</td>\n",
       "      <td>1</td>\n",
       "    </tr>\n",
       "  </tbody>\n",
       "</table>\n",
       "</div>"
      ],
      "text/plain": [
       "   tripduration            starttime             stoptime  start station id  \\\n",
       "0           382  2014-02-01 00:00:00  2014-02-01 00:06:22               294   \n",
       "1           372  2014-02-01 00:00:03  2014-02-01 00:06:15               285   \n",
       "2           591  2014-02-01 00:00:09  2014-02-01 00:10:00               247   \n",
       "3           583  2014-02-01 00:00:32  2014-02-01 00:10:15               357   \n",
       "4           223  2014-02-01 00:00:41  2014-02-01 00:04:24               401   \n",
       "\n",
       "        start station name  start station latitude  start station longitude  \\\n",
       "0      Washington Square E               40.730494               -73.995721   \n",
       "1       Broadway & E 14 St               40.734546               -73.990741   \n",
       "2   Perry St & Bleecker St               40.735354               -74.004831   \n",
       "3       E 11 St & Broadway               40.732618               -73.991580   \n",
       "4  Allen St & Rivington St               40.720196               -73.989978   \n",
       "\n",
       "   end station id          end station name  end station latitude  \\\n",
       "0             265  Stanton St & Chrystie St             40.722293   \n",
       "1             439            E 4 St & 2 Ave             40.726281   \n",
       "2             251       Mott St & Prince St             40.723180   \n",
       "3             284     Greenwich Ave & 8 Ave             40.739017   \n",
       "4             439            E 4 St & 2 Ave             40.726281   \n",
       "\n",
       "   end station longitude  bikeid    usertype birth year  gender  \n",
       "0             -73.991475   21101  Subscriber       1991       1  \n",
       "1             -73.989780   15456  Subscriber       1979       2  \n",
       "2             -73.994800   16281  Subscriber       1948       2  \n",
       "3             -74.002638   17400  Subscriber       1981       1  \n",
       "4             -73.989780   19341  Subscriber       1990       1  "
      ]
     },
     "execution_count": 4,
     "metadata": {},
     "output_type": "execute_result"
    }
   ],
   "source": [
    "citibike.head()"
   ]
  },
  {
   "cell_type": "code",
   "execution_count": 5,
   "metadata": {},
   "outputs": [
    {
     "data": {
      "text/html": [
       "<div>\n",
       "<style scoped>\n",
       "    .dataframe tbody tr th:only-of-type {\n",
       "        vertical-align: middle;\n",
       "    }\n",
       "\n",
       "    .dataframe tbody tr th {\n",
       "        vertical-align: top;\n",
       "    }\n",
       "\n",
       "    .dataframe thead th {\n",
       "        text-align: right;\n",
       "    }\n",
       "</style>\n",
       "<table border=\"1\" class=\"dataframe\">\n",
       "  <thead>\n",
       "    <tr style=\"text-align: right;\">\n",
       "      <th></th>\n",
       "      <th>count</th>\n",
       "      <th>mean</th>\n",
       "      <th>std</th>\n",
       "      <th>min</th>\n",
       "      <th>25%</th>\n",
       "      <th>50%</th>\n",
       "      <th>75%</th>\n",
       "      <th>max</th>\n",
       "    </tr>\n",
       "  </thead>\n",
       "  <tbody>\n",
       "    <tr>\n",
       "      <th>tripduration</th>\n",
       "      <td>224736.0</td>\n",
       "      <td>874.519810</td>\n",
       "      <td>5486.092219</td>\n",
       "      <td>60.000000</td>\n",
       "      <td>360.000000</td>\n",
       "      <td>544.000000</td>\n",
       "      <td>845.000000</td>\n",
       "      <td>766108.000000</td>\n",
       "    </tr>\n",
       "    <tr>\n",
       "      <th>start station id</th>\n",
       "      <td>224736.0</td>\n",
       "      <td>439.203479</td>\n",
       "      <td>335.723861</td>\n",
       "      <td>72.000000</td>\n",
       "      <td>305.000000</td>\n",
       "      <td>403.000000</td>\n",
       "      <td>490.000000</td>\n",
       "      <td>3002.000000</td>\n",
       "    </tr>\n",
       "    <tr>\n",
       "      <th>start station latitude</th>\n",
       "      <td>224736.0</td>\n",
       "      <td>40.734366</td>\n",
       "      <td>0.019031</td>\n",
       "      <td>40.680342</td>\n",
       "      <td>40.721854</td>\n",
       "      <td>40.736197</td>\n",
       "      <td>40.749156</td>\n",
       "      <td>40.770513</td>\n",
       "    </tr>\n",
       "    <tr>\n",
       "      <th>start station longitude</th>\n",
       "      <td>224736.0</td>\n",
       "      <td>-73.990386</td>\n",
       "      <td>0.011853</td>\n",
       "      <td>-74.017134</td>\n",
       "      <td>-73.998522</td>\n",
       "      <td>-73.990617</td>\n",
       "      <td>-73.981918</td>\n",
       "      <td>-73.950048</td>\n",
       "    </tr>\n",
       "    <tr>\n",
       "      <th>end station id</th>\n",
       "      <td>224736.0</td>\n",
       "      <td>440.741995</td>\n",
       "      <td>341.497433</td>\n",
       "      <td>72.000000</td>\n",
       "      <td>305.000000</td>\n",
       "      <td>403.000000</td>\n",
       "      <td>488.000000</td>\n",
       "      <td>3002.000000</td>\n",
       "    </tr>\n",
       "    <tr>\n",
       "      <th>end station latitude</th>\n",
       "      <td>224736.0</td>\n",
       "      <td>40.734221</td>\n",
       "      <td>0.019048</td>\n",
       "      <td>40.680342</td>\n",
       "      <td>40.721816</td>\n",
       "      <td>40.735877</td>\n",
       "      <td>40.749013</td>\n",
       "      <td>40.770513</td>\n",
       "    </tr>\n",
       "    <tr>\n",
       "      <th>end station longitude</th>\n",
       "      <td>224736.0</td>\n",
       "      <td>-73.990521</td>\n",
       "      <td>0.011920</td>\n",
       "      <td>-74.017134</td>\n",
       "      <td>-73.999061</td>\n",
       "      <td>-73.990741</td>\n",
       "      <td>-73.981948</td>\n",
       "      <td>-73.950048</td>\n",
       "    </tr>\n",
       "    <tr>\n",
       "      <th>bikeid</th>\n",
       "      <td>224736.0</td>\n",
       "      <td>18010.598222</td>\n",
       "      <td>1987.769335</td>\n",
       "      <td>14529.000000</td>\n",
       "      <td>16302.000000</td>\n",
       "      <td>17975.000000</td>\n",
       "      <td>19689.000000</td>\n",
       "      <td>21542.000000</td>\n",
       "    </tr>\n",
       "    <tr>\n",
       "      <th>gender</th>\n",
       "      <td>224736.0</td>\n",
       "      <td>1.154617</td>\n",
       "      <td>0.436592</td>\n",
       "      <td>0.000000</td>\n",
       "      <td>1.000000</td>\n",
       "      <td>1.000000</td>\n",
       "      <td>1.000000</td>\n",
       "      <td>2.000000</td>\n",
       "    </tr>\n",
       "  </tbody>\n",
       "</table>\n",
       "</div>"
      ],
      "text/plain": [
       "                            count          mean          std           min  \\\n",
       "tripduration             224736.0    874.519810  5486.092219     60.000000   \n",
       "start station id         224736.0    439.203479   335.723861     72.000000   \n",
       "start station latitude   224736.0     40.734366     0.019031     40.680342   \n",
       "start station longitude  224736.0    -73.990386     0.011853    -74.017134   \n",
       "end station id           224736.0    440.741995   341.497433     72.000000   \n",
       "end station latitude     224736.0     40.734221     0.019048     40.680342   \n",
       "end station longitude    224736.0    -73.990521     0.011920    -74.017134   \n",
       "bikeid                   224736.0  18010.598222  1987.769335  14529.000000   \n",
       "gender                   224736.0      1.154617     0.436592      0.000000   \n",
       "\n",
       "                                  25%           50%           75%  \\\n",
       "tripduration               360.000000    544.000000    845.000000   \n",
       "start station id           305.000000    403.000000    490.000000   \n",
       "start station latitude      40.721854     40.736197     40.749156   \n",
       "start station longitude    -73.998522    -73.990617    -73.981918   \n",
       "end station id             305.000000    403.000000    488.000000   \n",
       "end station latitude        40.721816     40.735877     40.749013   \n",
       "end station longitude      -73.999061    -73.990741    -73.981948   \n",
       "bikeid                   16302.000000  17975.000000  19689.000000   \n",
       "gender                       1.000000      1.000000      1.000000   \n",
       "\n",
       "                                   max  \n",
       "tripduration             766108.000000  \n",
       "start station id           3002.000000  \n",
       "start station latitude       40.770513  \n",
       "start station longitude     -73.950048  \n",
       "end station id             3002.000000  \n",
       "end station latitude         40.770513  \n",
       "end station longitude       -73.950048  \n",
       "bikeid                    21542.000000  \n",
       "gender                        2.000000  "
      ]
     },
     "execution_count": 5,
     "metadata": {},
     "output_type": "execute_result"
    }
   ],
   "source": [
    "citibike.describe().T"
   ]
  },
  {
   "cell_type": "code",
   "execution_count": 6,
   "metadata": {},
   "outputs": [
    {
     "data": {
      "text/plain": [
       "(224736, 15)"
      ]
     },
     "execution_count": 6,
     "metadata": {},
     "output_type": "execute_result"
    }
   ],
   "source": [
    "citibike.shape"
   ]
  },
  {
   "cell_type": "code",
   "execution_count": 7,
   "metadata": {},
   "outputs": [],
   "source": [
    "# time issues\n",
    "citibike['starttime'] = pd.to_datetime(citibike['starttime'], format='%Y-%m-%d %H:%M:%S')\n",
    "citibike['stoptime'] = pd.to_datetime(citibike['stoptime'], format='%Y-%m-%d %H:%M:%S')"
   ]
  },
  {
   "cell_type": "code",
   "execution_count": 8,
   "metadata": {},
   "outputs": [
    {
     "data": {
      "text/plain": [
       "tripduration               0\n",
       "starttime                  0\n",
       "stoptime                   0\n",
       "start station id           0\n",
       "start station name         0\n",
       "start station latitude     0\n",
       "start station longitude    0\n",
       "end station id             0\n",
       "end station name           0\n",
       "end station latitude       0\n",
       "end station longitude      0\n",
       "bikeid                     0\n",
       "usertype                   0\n",
       "birth year                 0\n",
       "gender                     0\n",
       "dtype: int64"
      ]
     },
     "execution_count": 8,
     "metadata": {},
     "output_type": "execute_result"
    }
   ],
   "source": [
    "citibike.isna().sum()"
   ]
  },
  {
   "cell_type": "code",
   "execution_count": 9,
   "metadata": {},
   "outputs": [
    {
     "data": {
      "text/plain": [
       "tripduration                        int64\n",
       "starttime                  datetime64[ns]\n",
       "stoptime                   datetime64[ns]\n",
       "start station id                    int64\n",
       "start station name                 object\n",
       "start station latitude            float64\n",
       "start station longitude           float64\n",
       "end station id                      int64\n",
       "end station name                   object\n",
       "end station latitude              float64\n",
       "end station longitude             float64\n",
       "bikeid                              int64\n",
       "usertype                           object\n",
       "birth year                         object\n",
       "gender                              int64\n",
       "dtype: object"
      ]
     },
     "execution_count": 9,
     "metadata": {},
     "output_type": "execute_result"
    }
   ],
   "source": [
    "citibike.dtypes"
   ]
  },
  {
   "cell_type": "code",
   "execution_count": 10,
   "metadata": {},
   "outputs": [],
   "source": [
    "# first thing to notice is the \\N column, we will simply delete these as they are errored results\n",
    "citibike.replace(r'\\N', np.nan,inplace=True)\n",
    "citibike.dropna(subset=['birth year'],inplace=True) # getting an na even though it didn't show up in tallies\n",
    "citibike['birth year'] = citibike['birth year'].astype('int64') # changin birth year to int"
   ]
  },
  {
   "cell_type": "markdown",
   "metadata": {},
   "source": [
    "### Is average trip duration different by gender?\n",
    "\n",
    "Conduct a hypothesis test that checks whether or not the average trip duration is different for `gender=1` and `gender=2`. Be sure to specify your null and alternative hypotheses, and to state your conclusion carefully and correctly!"
   ]
  },
  {
   "cell_type": "code",
   "execution_count": 11,
   "metadata": {},
   "outputs": [
    {
     "data": {
      "image/png": "[encoded data removed]",
      "text/plain": [
       "<Figure size 432x360 with 1 Axes>"
      ]
     },
     "metadata": {
      "needs_background": "light"
     },
     "output_type": "display_data"
    }
   ],
   "source": [
    "# based off this graph it appears gender does affect trip duration\n",
    "x = citibike.groupby(['gender'])['tripduration'].agg('mean')\n",
    "plt.figure(figsize=(6,5))\n",
    "plt.bar(x.keys(),x.values);"
   ]
  },
  {
   "cell_type": "code",
   "execution_count": 12,
   "metadata": {},
   "outputs": [
    {
     "name": "stdout",
     "output_type": "stream",
     "text": [
      "-177.3286654549213\n",
      "-5.929304472651931 3.046762685660303e-09\n"
     ]
    }
   ],
   "source": [
    "# My hypothesis is that gender does affect the average trip duration of a bike ride\n",
    "# THUS my null hypothesis is that gender doesn't affect the average trip duration of a bike ride\n",
    "# and that those values are the same.\n",
    "# H_o: u_gen1-u_gen2 = 0 [null]\n",
    "# H_a: u_gen1-u_gen2 != 0 [my hypo]\n",
    "\n",
    "# establishing two groups so we can calculate the means of both\n",
    "gender_1 = citibike.loc[citibike['gender']==1,'tripduration'] \n",
    "gender_2 = citibike.loc[citibike['gender']==2,'tripduration'] \n",
    "\n",
    "# the mean of both of these two events will equal to zero if they are equivalent\n",
    "print(gender_1.mean() - gender_2.mean())\n",
    "\n",
    "t_stat, p_value = stats.ttest_ind(gender_1,gender_2)\n",
    "print(t_stat,p_value)\n",
    "\n",
    "# If gender truly did not matter, the percent chance that we see a value more extreme than -5 is \n",
    "# ~2.25e-192. Thus stating that we are highly certain that gender does affect trip duration\n",
    "# Since our pvalue is lower than .05 we can reject the null hypothesis"
   ]
  },
  {
   "cell_type": "markdown",
   "metadata": {},
   "source": [
    "### What numeric columns shouldn't be treated as numeric?"
   ]
  },
  {
   "cell_type": "markdown",
   "metadata": {},
   "source": [
    "**Answer:** gender, start station id, latitude, longitude, usertype"
   ]
  },
  {
   "cell_type": "markdown",
   "metadata": {},
   "source": [
    "### Dummify the `start station id` Variable"
   ]
  },
  {
   "cell_type": "code",
   "execution_count": 13,
   "metadata": {},
   "outputs": [],
   "source": [
    "citibike = pd.get_dummies(citibike, columns=['start station id','usertype','gender'],drop_first=True)"
   ]
  },
  {
   "cell_type": "markdown",
   "metadata": {},
   "source": [
    "## Feature Engineering\n",
    "Engineer a feature called `age` that shares how old the person would have been in 2014 (at the time the data was collected)\n",
    "- Note: you will need to clean the data a bit."
   ]
  },
  {
   "cell_type": "code",
   "execution_count": 14,
   "metadata": {},
   "outputs": [],
   "source": [
    "citibike['age'] = date.today().year - citibike['birth year']"
   ]
  },
  {
   "cell_type": "code",
   "execution_count": 15,
   "metadata": {},
   "outputs": [
    {
     "data": {
      "text/plain": [
       "0         30\n",
       "1         42\n",
       "2         73\n",
       "3         40\n",
       "4         31\n",
       "          ..\n",
       "224731    45\n",
       "224732    36\n",
       "224733    53\n",
       "224734    39\n",
       "224735    61\n",
       "Name: age, Length: 218019, dtype: int64"
      ]
     },
     "execution_count": 15,
     "metadata": {},
     "output_type": "execute_result"
    }
   ],
   "source": [
    "citibike['age']"
   ]
  },
  {
   "cell_type": "markdown",
   "metadata": {},
   "source": [
    "## Split your data into train/test sets\n",
    "\n",
    "Look at the size of your data. What is a good proportion for your split? **Justify your answer, considering the size of your data and the default split size in sklearn.**\n",
    "\n",
    "Use the `tripduration` column as your `y` variable.\n",
    "\n",
    "For your `X` variables, use `age`, `usertype`, `gender`, and the dummy variables you created from `start station id`. (Hint: You may find the Pandas `.drop()` method helpful here.) "
   ]
  },
  {
   "cell_type": "code",
   "execution_count": 16,
   "metadata": {},
   "outputs": [],
   "source": [
    "# Done below"
   ]
  },
  {
   "cell_type": "markdown",
   "metadata": {},
   "source": [
    "## Fit a Linear Regression model in `sklearn` predicting `tripduration`."
   ]
  },
  {
   "cell_type": "code",
   "execution_count": 17,
   "metadata": {},
   "outputs": [
    {
     "name": "stdout",
     "output_type": "stream",
     "text": [
      "-0.003420148023322378\n",
      "-0.0037816533867955915\n"
     ]
    }
   ],
   "source": [
    "X = citibike.drop(columns=['starttime','stoptime','start station name','start station latitude',\n",
    "                                   'start station longitude','end station id','end station name','end station latitude',\n",
    "                                   'end station longitude','bikeid','birth year','tripduration'])\n",
    "y = citibike['tripduration']\n",
    "X_train, X_test, y_train, y_test = train_test_split(X, y,\n",
    "                                                    test_size=.2)\n",
    "lr = LinearRegression()\n",
    "lr.fit(X_train,y_train)\n",
    "print(cross_val_score(lr,X_train, y_train, cv=5).mean())\n",
    "print(lr.score(X_test,y_test))"
   ]
  },
  {
   "cell_type": "code",
   "execution_count": 18,
   "metadata": {},
   "outputs": [
    {
     "name": "stderr",
     "output_type": "stream",
     "text": [
      "/Users/evanhoefling/opt/anaconda3/lib/python3.8/site-packages/seaborn/_decorators.py:36: FutureWarning: Pass the following variables as keyword args: x, y. From version 0.12, the only valid positional argument will be `data`, and passing other arguments without an explicit keyword will result in an error or misinterpretation.\n",
      "  warnings.warn(\n"
     ]
    },
    {
     "data": {
      "image/png": "[encoded data removed]",
      "text/plain": [
       "<Figure size 576x432 with 1 Axes>"
      ]
     },
     "metadata": {
      "needs_background": "light"
     },
     "output_type": "display_data"
    }
   ],
   "source": [
    "y_preds = lr.predict(X_test)\n",
    "plt.figure(figsize=(8,6))\n",
    "sns.regplot(y_preds,y_test,ci=None,scatter_kws={'s':5},line_kws={'color':'orange'});\n",
    "plt.xlabel('predicted')\n",
    "plt.ylabel('actual')\n",
    "plt.title('Actual vs Predicted');"
   ]
  },
  {
   "cell_type": "markdown",
   "metadata": {},
   "source": [
    "## Evaluate your model\n",
    "Look at some evaluation metrics for **both** the training and test data. \n",
    "- How did your model do? Is it overfit, underfit, or neither?\n",
    "- Does this model outperform the baseline? (e.g. setting $\\hat{y}$ to be the mean of our training `y` values.)"
   ]
  },
  {
   "cell_type": "markdown",
   "metadata": {},
   "source": [
    "The model is overfit. It is running better on the training sample than the testing data. Since it is only correct ~.002 on our training set, I would say that the model has not out performed the baseline."
   ]
  },
  {
   "cell_type": "markdown",
   "metadata": {},
   "source": [
    "## Fit a Linear Regression model in `statsmodels` predicting `tripduration`."
   ]
  },
  {
   "cell_type": "code",
   "execution_count": 21,
   "metadata": {},
   "outputs": [
    {
     "data": {
      "text/plain": [
       "const                    264.141510\n",
       "start station id_79       -2.229394\n",
       "start station id_82     -389.069734\n",
       "start station id_83     -200.622588\n",
       "start station id_116    -380.368636\n",
       "                            ...    \n",
       "start station id_2023   -254.294300\n",
       "start station id_3002   -217.575874\n",
       "gender_1                 545.985286\n",
       "gender_2                 710.306530\n",
       "age                        4.715651\n",
       "Length: 332, dtype: float64"
      ]
     },
     "execution_count": 21,
     "metadata": {},
     "output_type": "execute_result"
    }
   ],
   "source": [
    "x_train = sm.add_constant(X_train)\n",
    "ols_mod = sm.OLS(y_train,x_train).fit()\n",
    "ols_mod.params"
   ]
  },
  {
   "cell_type": "markdown",
   "metadata": {},
   "source": [
    "## Evaluate your model\n",
    "Using the `statsmodels` summary, test whether or not `age` has a significant effect when predicting `tripduration`.\n",
    "- Be sure to specify your null and alternative hypotheses, and to state your conclusion carefully and correctly **in the context of your model**!"
   ]
  },
  {
   "cell_type": "code",
   "execution_count": 22,
   "metadata": {},
   "outputs": [
    {
     "data": {
      "text/plain": [
       "0.00010375037784718357"
      ]
     },
     "execution_count": 22,
     "metadata": {},
     "output_type": "execute_result"
    }
   ],
   "source": [
    "ols_mod.pvalues['age']"
   ]
  },
  {
   "cell_type": "markdown",
   "metadata": {},
   "source": [
    "Seeing as the pvalue of age is 0, meaning seeming that it is safe to reject the null hypothesis, which is that age does not affect trip duration. Now this could change, we have a lot of garbage variables floating around in our model, if we decide to change features we would have to re-evaluate the p-score with the other variables taken into consideration."
   ]
  },
  {
   "cell_type": "markdown",
   "metadata": {},
   "source": [
    "## Citi Bike is attempting to market to people who they think will ride their bike for a long time. Based on your modeling, what types of individuals should Citi Bike market toward?"
   ]
  },
  {
   "cell_type": "code",
   "execution_count": 64,
   "metadata": {},
   "outputs": [
    {
     "data": {
      "image/png": "[encoded data removed]",
      "text/plain": [
       "<Figure size 504x360 with 1 Axes>"
      ]
     },
     "metadata": {
      "needs_background": "light"
     },
     "output_type": "display_data"
    }
   ],
   "source": [
    "# Based on all my modeling I would market most towards gener 2 ages (30-45). They seem to be the largest users of Citibike.\n",
    "x = citibike.groupby(['age'])['age'].agg('count')\n",
    "plt.figure(figsize=(7,5))\n",
    "plt.bar(x.keys(),x.values);"
   ]
  }
 ],
 "metadata": {
  "anaconda-cloud": {},
  "kernelspec": {
   "display_name": "Python 3",
   "language": "python",
   "name": "python3"
  },
  "language_info": {
   "codemirror_mode": {
    "name": "ipython",
    "version": 3
   },
   "file_extension": ".py",
   "mimetype": "text/x-python",
   "name": "python",
   "nbconvert_exporter": "python",
   "pygments_lexer": "ipython3",
   "version": "3.8.8"
  }
 },
 "nbformat": 4,
 "nbformat_minor": 4
}
