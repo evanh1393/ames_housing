{
 "cells": [
  {
   "cell_type": "code",
   "execution_count": 4,
   "id": "e3311535-a478-4cc0-acc4-b53d25542d3c",
   "metadata": {},
   "outputs": [],
   "source": [
    "import pandas as pd\n",
    "import numpy as np\n",
    "import seaborn as sns\n",
    "import matplotlib.pyplot as plt\n",
    "from sklearn.linear_model import LinearRegression, Ridge, RidgeCV, LassoCV\n",
    "from sklearn.model_selection import train_test_split, cross_val_score, cross_val_predict\n",
    "from sklearn.metrics import r2_score\n",
    "from sklearn.preprocessing import StandardScaler, PolynomialFeatures\n",
    "from scipy import stats\n",
    "import statsmodels.api as sm\n",
    "from datetime import date\n",
    "from sklearn import metrics"
   ]
  },
  {
   "cell_type": "code",
   "execution_count": 546,
   "id": "8380a30c-2ec4-4b6f-b6f0-10ede96db81c",
   "metadata": {},
   "outputs": [
    {
     "name": "stdout",
     "output_type": "stream",
     "text": [
      "0.8768890833633882\n",
      "0.8554391409711399\n",
      "Root Mean Squared Error on training data: 29920.909261467652\n"
     ]
    },
    {
     "data": {
      "text/plain": [
       "\"\\nmodel = LinearRegression()\\nmodel.fit(Z_train, y_train)\\nprint(cross_val_score(model, Z_train, y_train,cv=5).mean())\\nprint(model.score(Z_test,y_test)) \\nprint(f'Root Mean Squared Error on training data: {metrics.mean_squared_error(y_test,model.predict(Z_test),squared=False)}')\\nx = sm.add_constant(Z_train)\\nols = sm.OLS(y_train,x).fit()\\nprint(X.columns)\\nols.summary()\\n\""
      ]
     },
     "execution_count": 546,
     "metadata": {},
     "output_type": "execute_result"
    }
   ],
   "source": [
    "features = [\n",
    "    'Full Bath', 'house_age', 'Total Bsmt SF', 'Exter Qual',\n",
    "    'total_SF', 'Garage Cars',\n",
    "    'Bsmt Qual', 'Fireplace Qu', 'Sale Type_New',\n",
    "    'Fireplaces', 'Gr Liv Area', 'curb_appeal', 'Bsmt Qual',\n",
    "    'Year Remod/Add', 'Bedroom AbvGr', 'Year Built','overalls','Garage Yr Blt'\n",
    "]\n",
    "ames = pd.read_csv('./frames/training.csv')\n",
    "# Splitting and scaling our training and testing data\n",
    "X = ames[features]\n",
    "y = ames['SalePrice']\n",
    "\n",
    "poly = PolynomialFeatures(degree=4, interaction_only=False, include_bias=False)\n",
    "X_overfit = poly.fit_transform(X)\n",
    "\n",
    "X_train, X_test, y_train, y_test = train_test_split(X_overfit,y,\n",
    "                                                   random_state=13,\n",
    "                                                   test_size=.2)\n",
    "\n",
    "sc = StandardScaler()\n",
    "Z_train = sc.fit_transform(X_train)\n",
    "Z_test = sc.transform(X_test)\n",
    "\n",
    "ridge_model = Ridge(alpha=10)\n",
    "# Fit.\n",
    "ridge_model.fit(Z_train, y_train)\n",
    "\n",
    "# Evaluate model using R2.\n",
    "print(cross_val_score(ridge_model, Z_train, y_train).mean())\n",
    "print(ridge_model.score(Z_test, y_test))\n",
    "print(f'Root Mean Squared Error on training data: {metrics.mean_squared_error(y_test,ridge_model.predict(Z_test),squared=False)}')\n",
    "\n",
    "'''\n",
    "model = LinearRegression()\n",
    "model.fit(Z_train, y_train)\n",
    "print(cross_val_score(model, Z_train, y_train,cv=5).mean())\n",
    "print(model.score(Z_test,y_test)) \n",
    "print(f'Root Mean Squared Error on training data: {metrics.mean_squared_error(y_test,model.predict(Z_test),squared=False)}')\n",
    "x = sm.add_constant(Z_train)\n",
    "ols = sm.OLS(y_train,x).fit()\n",
    "print(X.columns)\n",
    "ols.summary()\n",
    "'''"
   ]
  },
  {
   "cell_type": "code",
   "execution_count": 129,
   "id": "ce76f723-db3a-45e4-b043-83cc0b329c0c",
   "metadata": {},
   "outputs": [],
   "source": [
    "features = [\n",
    "    'Overall Qual', 'house_age', 'total_SF', 'Garage Cars', 'Total Bsmt SF', '1st Flr SF',\n",
    "    'Bsmt Qual', 'Year Remod/Add', 'Full Bath', 'Exter Qual', 'overalls', 'Fireplaces', \n",
    "    'PID', 'Roof Style_Gable', 'curb_appeal', 'Lot Shape_Reg', 'Garage Finish_Unf',\n",
    "    'Neighborhood_OldTown', 'Garage Finish_NA', 'Foundation_CBlock', 'Lot Shape_Reg', 'Ms SubClass_PUD',\n",
    "]\n",
    "\n",
    "test_frame = (pd.read_csv('./frames/testing.csv'))\n",
    "\n",
    "X = test_frame[features]\n",
    "X_overfit = poly.fit_transform(X)\n",
    "sc = StandardScaler()\n",
    "Z_test = sc.fit_transform(X_overfit)\n",
    "\n",
    "test_frame['SalePrice'] = ridge_model.predict(Z_test)\n",
    "sub = test_frame[['Id','SalePrice']]\n",
    "sub.to_csv('./subs/mon519pm.csv',index=False)"
   ]
  },
  {
   "cell_type": "code",
   "execution_count": 516,
   "id": "f4e78711-6fb8-4369-b0b1-b25086bf6b3d",
   "metadata": {},
   "outputs": [
    {
     "data": {
      "text/plain": [
       "house_age              -0.571881\n",
       "pens                   -0.555819\n",
       "Garage Finish_Unf      -0.432220\n",
       "Mas Vnr Type_None      -0.424088\n",
       "Garage Type_Detchd     -0.370344\n",
       "Foundation_CBlock      -0.355535\n",
       "Heating QC_TA          -0.343542\n",
       "Lot Shape_Reg          -0.306291\n",
       "Bsmt Exposure_No       -0.293106\n",
       "MS Zoning_RM           -0.281951\n",
       "PID                    -0.255052\n",
       "Roof Style_Gable       -0.249329\n",
       "Garage Type_NA         -0.230990\n",
       "Garage Finish_NA       -0.230855\n",
       "Sale Type_WD           -0.212542\n",
       "Neighborhood_OldTown   -0.208371\n",
       "Exterior 1st_Wd Sdng   -0.191734\n",
       "Neighborhood_NAmes     -0.189387\n",
       "Neighborhood_IDOTRR    -0.189237\n",
       "Neighborhood_Edwards   -0.176119\n",
       "Name: SalePrice, dtype: float64"
      ]
     },
     "execution_count": 516,
     "metadata": {},
     "output_type": "execute_result"
    }
   ],
   "source": [
    "ames = pd.read_csv('./frames/training.csv')\n",
    "ames.corr()['SalePrice'].sort_values(ascending=True).head(20)"
   ]
  },
  {
   "cell_type": "code",
   "execution_count": 518,
   "id": "098a50b2-15fe-49b6-bba9-c50ee5cd65b6",
   "metadata": {},
   "outputs": [
    {
     "name": "stdout",
     "output_type": "stream",
     "text": [
      "0.8078956855848196\n",
      "0.7482407434608174\n",
      "Root Mean Squared Error on training data: 39485.909941570135\n",
      "Index(['Overall Qual', 'Total Bsmt SF', 'Kitchen Qual', '1st Flr SF',\n",
      "       'Exter Qual', 'curb_appeal', 'Garage Yr Blt', 'overalls', 'Garage Area',\n",
      "       'TotRms AbvGrd'],\n",
      "      dtype='object')\n"
     ]
    },
    {
     "data": {
      "text/html": [
       "<table class=\"simpletable\">\n",
       "<caption>OLS Regression Results</caption>\n",
       "<tr>\n",
       "  <th>Dep. Variable:</th>        <td>SalePrice</td>    <th>  R-squared:         </th> <td>   0.814</td> \n",
       "</tr>\n",
       "<tr>\n",
       "  <th>Model:</th>                   <td>OLS</td>       <th>  Adj. R-squared:    </th> <td>   0.813</td> \n",
       "</tr>\n",
       "<tr>\n",
       "  <th>Method:</th>             <td>Least Squares</td>  <th>  F-statistic:       </th> <td>   712.3</td> \n",
       "</tr>\n",
       "<tr>\n",
       "  <th>Date:</th>             <td>Tue, 13 Jul 2021</td> <th>  Prob (F-statistic):</th>  <td>  0.00</td>  \n",
       "</tr>\n",
       "<tr>\n",
       "  <th>Time:</th>                 <td>20:17:58</td>     <th>  Log-Likelihood:    </th> <td> -19451.</td> \n",
       "</tr>\n",
       "<tr>\n",
       "  <th>No. Observations:</th>      <td>  1640</td>      <th>  AIC:               </th> <td>3.892e+04</td>\n",
       "</tr>\n",
       "<tr>\n",
       "  <th>Df Residuals:</th>          <td>  1629</td>      <th>  BIC:               </th> <td>3.898e+04</td>\n",
       "</tr>\n",
       "<tr>\n",
       "  <th>Df Model:</th>              <td>    10</td>      <th>                     </th>     <td> </td>    \n",
       "</tr>\n",
       "<tr>\n",
       "  <th>Covariance Type:</th>      <td>nonrobust</td>    <th>                     </th>     <td> </td>    \n",
       "</tr>\n",
       "</table>\n",
       "<table class=\"simpletable\">\n",
       "<tr>\n",
       "    <td></td>       <th>coef</th>     <th>std err</th>      <th>t</th>      <th>P>|t|</th>  <th>[0.025</th>    <th>0.975]</th>  \n",
       "</tr>\n",
       "<tr>\n",
       "  <th>const</th> <td> 1.812e+05</td> <td>  848.420</td> <td>  213.515</td> <td> 0.000</td> <td> 1.79e+05</td> <td> 1.83e+05</td>\n",
       "</tr>\n",
       "<tr>\n",
       "  <th>x1</th>    <td> 1.576e+04</td> <td> 1950.920</td> <td>    8.076</td> <td> 0.000</td> <td> 1.19e+04</td> <td> 1.96e+04</td>\n",
       "</tr>\n",
       "<tr>\n",
       "  <th>x2</th>    <td> 7869.0024</td> <td> 1504.899</td> <td>    5.229</td> <td> 0.000</td> <td> 4917.261</td> <td> 1.08e+04</td>\n",
       "</tr>\n",
       "<tr>\n",
       "  <th>x3</th>    <td> 1.017e+04</td> <td> 1330.246</td> <td>    7.646</td> <td> 0.000</td> <td> 7562.339</td> <td> 1.28e+04</td>\n",
       "</tr>\n",
       "<tr>\n",
       "  <th>x4</th>    <td> 8561.4169</td> <td> 1489.097</td> <td>    5.749</td> <td> 0.000</td> <td> 5640.671</td> <td> 1.15e+04</td>\n",
       "</tr>\n",
       "<tr>\n",
       "  <th>x5</th>    <td> 1.092e+04</td> <td> 1466.062</td> <td>    7.447</td> <td> 0.000</td> <td> 8041.626</td> <td> 1.38e+04</td>\n",
       "</tr>\n",
       "<tr>\n",
       "  <th>x6</th>    <td> 1.299e+04</td> <td> 1352.363</td> <td>    9.604</td> <td> 0.000</td> <td> 1.03e+04</td> <td> 1.56e+04</td>\n",
       "</tr>\n",
       "<tr>\n",
       "  <th>x7</th>    <td>-7749.1764</td> <td> 1135.363</td> <td>   -6.825</td> <td> 0.000</td> <td>-9976.101</td> <td>-5522.252</td>\n",
       "</tr>\n",
       "<tr>\n",
       "  <th>x8</th>    <td> 5844.1752</td> <td> 1310.659</td> <td>    4.459</td> <td> 0.000</td> <td> 3273.420</td> <td> 8414.931</td>\n",
       "</tr>\n",
       "<tr>\n",
       "  <th>x9</th>    <td>  1.61e+04</td> <td> 1343.324</td> <td>   11.986</td> <td> 0.000</td> <td> 1.35e+04</td> <td> 1.87e+04</td>\n",
       "</tr>\n",
       "<tr>\n",
       "  <th>x10</th>   <td> 1.076e+04</td> <td> 1017.359</td> <td>   10.577</td> <td> 0.000</td> <td> 8765.436</td> <td> 1.28e+04</td>\n",
       "</tr>\n",
       "</table>\n",
       "<table class=\"simpletable\">\n",
       "<tr>\n",
       "  <th>Omnibus:</th>       <td>371.265</td> <th>  Durbin-Watson:     </th> <td>   1.965</td> \n",
       "</tr>\n",
       "<tr>\n",
       "  <th>Prob(Omnibus):</th> <td> 0.000</td>  <th>  Jarque-Bera (JB):  </th> <td>15468.502</td>\n",
       "</tr>\n",
       "<tr>\n",
       "  <th>Skew:</th>          <td> 0.124</td>  <th>  Prob(JB):          </th> <td>    0.00</td> \n",
       "</tr>\n",
       "<tr>\n",
       "  <th>Kurtosis:</th>      <td>18.043</td>  <th>  Cond. No.          </th> <td>    6.20</td> \n",
       "</tr>\n",
       "</table><br/><br/>Notes:<br/>[1] Standard Errors assume that the covariance matrix of the errors is correctly specified."
      ],
      "text/plain": [
       "<class 'statsmodels.iolib.summary.Summary'>\n",
       "\"\"\"\n",
       "                            OLS Regression Results                            \n",
       "==============================================================================\n",
       "Dep. Variable:              SalePrice   R-squared:                       0.814\n",
       "Model:                            OLS   Adj. R-squared:                  0.813\n",
       "Method:                 Least Squares   F-statistic:                     712.3\n",
       "Date:                Tue, 13 Jul 2021   Prob (F-statistic):               0.00\n",
       "Time:                        20:17:58   Log-Likelihood:                -19451.\n",
       "No. Observations:                1640   AIC:                         3.892e+04\n",
       "Df Residuals:                    1629   BIC:                         3.898e+04\n",
       "Df Model:                          10                                         \n",
       "Covariance Type:            nonrobust                                         \n",
       "==============================================================================\n",
       "                 coef    std err          t      P>|t|      [0.025      0.975]\n",
       "------------------------------------------------------------------------------\n",
       "const       1.812e+05    848.420    213.515      0.000    1.79e+05    1.83e+05\n",
       "x1          1.576e+04   1950.920      8.076      0.000    1.19e+04    1.96e+04\n",
       "x2          7869.0024   1504.899      5.229      0.000    4917.261    1.08e+04\n",
       "x3          1.017e+04   1330.246      7.646      0.000    7562.339    1.28e+04\n",
       "x4          8561.4169   1489.097      5.749      0.000    5640.671    1.15e+04\n",
       "x5          1.092e+04   1466.062      7.447      0.000    8041.626    1.38e+04\n",
       "x6          1.299e+04   1352.363      9.604      0.000    1.03e+04    1.56e+04\n",
       "x7         -7749.1764   1135.363     -6.825      0.000   -9976.101   -5522.252\n",
       "x8          5844.1752   1310.659      4.459      0.000    3273.420    8414.931\n",
       "x9           1.61e+04   1343.324     11.986      0.000    1.35e+04    1.87e+04\n",
       "x10         1.076e+04   1017.359     10.577      0.000    8765.436    1.28e+04\n",
       "==============================================================================\n",
       "Omnibus:                      371.265   Durbin-Watson:                   1.965\n",
       "Prob(Omnibus):                  0.000   Jarque-Bera (JB):            15468.502\n",
       "Skew:                           0.124   Prob(JB):                         0.00\n",
       "Kurtosis:                      18.043   Cond. No.                         6.20\n",
       "==============================================================================\n",
       "\n",
       "Notes:\n",
       "[1] Standard Errors assume that the covariance matrix of the errors is correctly specified.\n",
       "\"\"\""
      ]
     },
     "execution_count": 518,
     "metadata": {},
     "output_type": "execute_result"
    }
   ],
   "source": [
    "# OUR EXPLAINABLE MODEL\n",
    "features = [\n",
    "    'Overall Qual', 'Total Bsmt SF',\n",
    "    'Kitchen Qual', '1st Flr SF', 'Exter Qual', \n",
    "    'curb_appeal', 'Garage Yr Blt', 'overalls',\n",
    "    'Garage Area', 'TotRms AbvGrd', \n",
    "]\n",
    "# read in the dataframe we already saved from data cleaning\n",
    "ames = pd.read_csv('./frames/training.csv')\n",
    "# Splitting and scaling our training and testing data\n",
    "X = ames[features]\n",
    "y = ames['SalePrice']\n",
    "\n",
    "X_train, X_test, y_train, y_test = train_test_split(X,y,\n",
    "                                                   random_state=13,\n",
    "                                                   test_size=.2)\n",
    "sc = StandardScaler()\n",
    "Z_train = sc.fit_transform(X_train)\n",
    "Z_test = sc.transform(X_test)\n",
    "\n",
    "model = LinearRegression()\n",
    "model.fit(Z_train, y_train)\n",
    "print(cross_val_score(model, Z_train, y_train,cv=5).mean())\n",
    "print(model.score(Z_test,y_test)) \n",
    "print(f'Root Mean Squared Error on training data: {metrics.mean_squared_error(y_test,model.predict(Z_test),squared=False)}')\n",
    "\n",
    "x = sm.add_constant(Z_train)\n",
    "ols = sm.OLS(y_train,x).fit()\n",
    "print(X.columns)\n",
    "ols.summary()"
   ]
  },
  {
   "cell_type": "code",
   "execution_count": 170,
   "id": "a460b998-75ee-48e7-993e-f35e1c58b0ef",
   "metadata": {},
   "outputs": [
    {
     "data": {
      "text/plain": [
       "SalePrice           1.000000\n",
       "Overall Qual        0.800207\n",
       "Exter Qual          0.712146\n",
       "total_SF            0.705270\n",
       "Gr Liv Area         0.697038\n",
       "Kitchen Qual        0.692336\n",
       "curb_appeal         0.676226\n",
       "Garage Area         0.649897\n",
       "Garage Cars         0.647781\n",
       "Total Bsmt SF       0.629303\n",
       "1st Flr SF          0.618486\n",
       "Bsmt Qual           0.612188\n",
       "Year Built          0.571849\n",
       "overalls            0.565244\n",
       "Year Remod/Add      0.550370\n",
       "Fireplace Qu        0.538925\n",
       "Full Bath           0.537969\n",
       "Foundation_PConc    0.529047\n",
       "TotRms AbvGrd       0.504014\n",
       "Fireplaces          0.471093\n",
       "Name: SalePrice, dtype: float64"
      ]
     },
     "execution_count": 170,
     "metadata": {},
     "output_type": "execute_result"
    }
   ],
   "source": [
    "ames.corr()['SalePrice'].sort_values(ascending=False).head(20)"
   ]
  },
  {
   "cell_type": "code",
   "execution_count": 473,
   "id": "cf3677ea-4dcb-4a4d-9607-9e4ab57f8f59",
   "metadata": {},
   "outputs": [
    {
     "name": "stdout",
     "output_type": "stream",
     "text": [
      "10\n"
     ]
    }
   ],
   "source": [
    "features = [\n",
    "    'Overall Qual', 'Total Bsmt SF',\n",
    "    'Kitchen Qual', '1st Flr SF', 'Exter Qual', \n",
    "    'curb_appeal', 'Garage Yr Blt', 'overalls',\n",
    "    'Garage Area', 'TotRms AbvGrd'\n",
    "]\n",
    "\n",
    "# read in the dataframe we already saved from data cleaning\n",
    "ames = pd.read_csv('./frames/training.csv')\n",
    "# Splitting and scaling our training and testing data\n",
    "X = ames[features]\n",
    "y = ames['SalePrice']\n",
    "\n",
    "poly = PolynomialFeatures(degree=1, interaction_only=False, include_bias=False)\n",
    "X_overfit = poly.fit_transform(X)\n",
    "\n",
    "X_train, X_test, y_train, y_test = train_test_split(X_overfit,y,\n",
    "                                                   random_state=13,\n",
    "                                                   test_size=.2)\n",
    "\n",
    "sc = StandardScaler()\n",
    "Z_train = sc.fit_transform(X_train)\n",
    "Z_test = sc.transform(X_test)\n",
    "\n",
    "'''\n",
    "model = LinearRegression()\n",
    "model.fit(Z_train, y_train)\n",
    "print(cross_val_score(model, Z_train, y_train,cv=5).mean())\n",
    "print(model.score(Z_test,y_test)) \n",
    "print(f'Root Mean Squared Error on training data: {metrics.mean_squared_error(y_test,model.predict(Z_test),squared=False)}')\n",
    "'''\n",
    "\n",
    "# Set up a list of ridge alphas to check.\n",
    "# np.logspace generates 100 values equally between 0 and 5,\n",
    "# then converts them to alphas between 10^0 and 10^5.\n",
    "r_alphas = np.logspace(0, 5, 100)\n",
    "\n",
    "# Cross-validate over our list of ridge alphas.\n",
    "ridge_cv = RidgeCV(alphas=r_alphas, scoring='r2', cv=5)\n",
    "\n",
    "# Fit model using best ridge alpha!\n",
    "ridge_cv = ridge_model.fit(Z_train, y_train)\n",
    "print(ridge_cv.alpha)"
   ]
  },
  {
   "cell_type": "code",
   "execution_count": 202,
   "id": "8e7a9721-fc44-4cb3-99ea-e0637425e284",
   "metadata": {},
   "outputs": [
    {
     "name": "stdout",
     "output_type": "stream",
     "text": [
      "0.8309598053202121\n",
      "0.7770670927155572\n",
      "Root Mean Squared Error on training data: 37156.647023667065\n"
     ]
    }
   ],
   "source": [
    "# Evaluate model using ridge.\n",
    "ridge_model = Ridge(alpha=1)\n",
    "# Fit.\n",
    "ridge_model.fit(Z_train, y_train)\n",
    "print(cross_val_score(ridge_model, Z_train, y_train).mean())\n",
    "print(ridge_model.score(Z_test, y_test))\n",
    "print(f'Root Mean Squared Error on training data: {metrics.mean_squared_error(y_test,ridge_model.predict(Z_test),squared=False)}')"
   ]
  },
  {
   "cell_type": "code",
   "execution_count": 203,
   "id": "eddda92f-cc55-4233-9b02-e5c3370544c4",
   "metadata": {},
   "outputs": [
    {
     "name": "stderr",
     "output_type": "stream",
     "text": [
      "/Users/evanhoefling/opt/anaconda3/lib/python3.8/site-packages/sklearn/linear_model/_coordinate_descent.py:526: ConvergenceWarning: Objective did not converge. You might want to increase the number of iterations. Duality gap: 843845861.890625, tolerance: 815258543.7468189\n",
      "  model = cd_fast.enet_coordinate_descent_gram(\n"
     ]
    }
   ],
   "source": [
    "# Set up a list of Lasso alphas to check.\n",
    "l_alphas = np.logspace(-3, 0, 100)\n",
    "\n",
    "# Cross-validate over our list of Lasso alphas.\n",
    "lasso_cv = LassoCV(alphas=l_alphas, cv=5)\n",
    "\n",
    "# Fit model using best ridge alpha!\n",
    "lasso_cv.fit(Z_train, y_train);"
   ]
  },
  {
   "cell_type": "code",
   "execution_count": 650,
   "id": "c87c6afd-4fea-4851-9845-a3c838784229",
   "metadata": {},
   "outputs": [
    {
     "data": {
      "text/plain": [
       "Neighborhood\n",
       "MeadowV    100231.250000\n",
       "IDOTRR     101103.188406\n",
       "BrDale     103371.052632\n",
       "OldTown    125276.300613\n",
       "BrkSide    127022.697368\n",
       "Edwards    130493.468531\n",
       "SWISU      134758.875000\n",
       "Landmrk    137000.000000\n",
       "Sawyer     137181.909910\n",
       "NPkVill    140476.470588\n",
       "Blueste    144566.666667\n",
       "NAmes      145905.816129\n",
       "Mitchel    167656.707317\n",
       "SawyerW    187760.160920\n",
       "Greens     188666.666667\n",
       "Gilbert    189228.387931\n",
       "NWAmes     194619.022989\n",
       "Blmngtn    200417.681818\n",
       "CollgCr    202497.216667\n",
       "Crawfor    205901.211268\n",
       "ClearCr    217490.074074\n",
       "Somerst    227183.900000\n",
       "Timber     241051.354167\n",
       "Veenker    253570.588235\n",
       "GrnHill    280000.000000\n",
       "NoRidge    316294.125000\n",
       "NridgHt    322831.352459\n",
       "StoneBr    329675.736842\n",
       "Name: SalePrice, dtype: float64"
      ]
     },
     "execution_count": 650,
     "metadata": {},
     "output_type": "execute_result"
    }
   ],
   "source": [
    "df = pd.read_csv('./data/train.csv')\n",
    "df.groupby('Neighborhood')['SalePrice'].mean().sort_values()"
   ]
  },
  {
   "cell_type": "code",
   "execution_count": 703,
   "id": "da67f6a0-1f9e-4fb9-a9ec-da43ac82ffcc",
   "metadata": {},
   "outputs": [
    {
     "data": {
      "text/plain": [
       "<BarContainer object of 2 artists>"
      ]
     },
     "execution_count": 703,
     "metadata": {},
     "output_type": "execute_result"
    },
    {
     "data": {
      "image/png": "[encoded data removed]",
      "text/plain": [
       "<Figure size 432x288 with 1 Axes>"
      ]
     },
     "metadata": {
      "needs_background": "light"
     },
     "output_type": "display_data"
    }
   ],
   "source": [
    "ames = pd.read_csv('./frames/training.csv')\n",
    "df = pd.read_csv('./data/train.csv')\n",
    "df['has_vnr_area'] = df['Mas Vnr Area'].apply(lambda x: 'Yes' if x != 0 else 'No')\n",
    "x = df.groupby('has_vnr_area')['SalePrice'].mean()\n",
    "plt.bar(x.keys(), x.values)"
   ]
  },
  {
   "cell_type": "code",
   "execution_count": 5,
   "id": "3d95160b-1f7c-4c8f-8b8d-5e205f5dd896",
   "metadata": {},
   "outputs": [
    {
     "data": {
      "text/plain": [
       "SalePrice           1.000000\n",
       "Overall Qual        0.800207\n",
       "Exter Qual          0.712146\n",
       "curb_appeal         0.707847\n",
       "total_SF            0.705270\n",
       "Gr Liv Area         0.697038\n",
       "Kitchen Qual        0.692336\n",
       "Garage Area         0.649897\n",
       "Garage Cars         0.647781\n",
       "Total Bsmt SF       0.629303\n",
       "1st Flr SF          0.618486\n",
       "Bsmt Qual           0.612188\n",
       "Year Built          0.571849\n",
       "overalls            0.565244\n",
       "Year Remod/Add      0.550370\n",
       "Fireplace Qu        0.538925\n",
       "Full Bath           0.537969\n",
       "Foundation_PConc    0.529047\n",
       "TotRms AbvGrd       0.504014\n",
       "Mas Vnr Area        0.503579\n",
       "Name: SalePrice, dtype: float64"
      ]
     },
     "execution_count": 5,
     "metadata": {},
     "output_type": "execute_result"
    }
   ],
   "source": [
    "ames.corr()['SalePrice'].sort_values(ascending=False).head(20)"
   ]
  },
  {
   "cell_type": "code",
   "execution_count": 3,
   "id": "204b21ba-6f09-484b-afae-b3b8ea34f6f8",
   "metadata": {},
   "outputs": [
    {
     "name": "stdout",
     "output_type": "stream",
     "text": [
      "0.8932913437176724\n",
      "0.9017175450754624\n",
      "Root Mean Squared Error on training data: 17720.52477722591\n",
      "Root Mean Squared Error on testing data: 24671.03815153063\n"
     ]
    }
   ],
   "source": [
    "# pluggin into ridge\n",
    "ames = pd.read_csv('./frames/training.csv')\n",
    "features = [\n",
    "    'Overall Qual', 'Total Bsmt SF', 'Exter Qual',\n",
    "    'Kitchen Qual', '1st Flr SF', 'Exter Qual', \n",
    "    'curb_appeal', 'Garage Yr Blt', 'overalls',\n",
    "    'Garage Area', 'TotRms AbvGrd', 'Lot Frontage',\n",
    "    'Bsmt Full Bath', 'Overall Qual', 'curb_appeal',\n",
    "    'Fireplaces', 'total_SF', 'Gr Liv Area',\n",
    "    'Year Remod/Add', 'PID', 'Roof Style_Gable',\n",
    "    'Neighborhood_Edwards', 'MS Zoning_RM', 'Bsmt Exposure_No', \n",
    "    'Full Bath','Fireplace Qu', 'Year Built', \n",
    "]\n",
    "\n",
    "X = ames[features]\n",
    "y = ames['SalePrice']\n",
    "\n",
    "poly = PolynomialFeatures(degree=3, interaction_only=False, include_bias=False)\n",
    "X_overfit = poly.fit_transform(X)\n",
    "\n",
    "X_train, X_test, y_train, y_test = train_test_split(X_overfit,y,\n",
    "                                                   random_state=13,\n",
    "                                                   test_size=.2)\n",
    "sc = StandardScaler()\n",
    "Z_train = sc.fit_transform(X_train)\n",
    "Z_test = sc.transform(X_test)\n",
    "\n",
    "# Evaluate model using ridge.\n",
    "ridge_model = Ridge(alpha=100)\n",
    "# Fit.\n",
    "ridge_model.fit(Z_train, y_train)\n",
    "print(cross_val_score(ridge_model, Z_train, y_train, n_jobs=-1).mean())\n",
    "print(ridge_model.score(Z_test, y_test))\n",
    "print(f'Root Mean Squared Error on training data: {metrics.mean_squared_error(y_train,ridge_model.predict(Z_train),squared=False)}')\n",
    "print(f'Root Mean Squared Error on testing data: {metrics.mean_squared_error(y_test,ridge_model.predict(Z_test),squared=False)}')"
   ]
  },
  {
   "cell_type": "code",
   "execution_count": 698,
   "id": "9f8c5542-d366-4312-8c4b-9a2457603e1e",
   "metadata": {},
   "outputs": [],
   "source": [
    "# results: \n",
    "features = [\n",
    "    'Overall Qual', 'Total Bsmt SF', 'Exter Qual',\n",
    "    'Kitchen Qual', '1st Flr SF', 'Exter Qual', \n",
    "    'curb_appeal', 'Garage Yr Blt', 'overalls',\n",
    "    'Garage Area', 'TotRms AbvGrd', 'Lot Frontage',\n",
    "    'Bsmt Full Bath', 'Overall Qual', 'curb_appeal',\n",
    "    'Fireplaces', 'total_SF', 'Gr Liv Area',\n",
    "    'Year Remod/Add', 'PID', 'Roof Style_Gable',\n",
    "    'Neighborhood_Edwards', 'MS Zoning_RM', 'Bsmt Exposure_No', \n",
    "    'Full Bath','Fireplace Qu', 'Year Built'\n",
    "]\n",
    "\n",
    "test_frame = pd.read_csv('./frames/testing.csv')\n",
    "\n",
    "X = test_frame[features]\n",
    "X_overfit = poly.fit_transform(X)\n",
    "sc = StandardScaler()\n",
    "Z_test = sc.fit_transform(X_overfit)\n",
    "\n",
    "test_frame['SalePrice'] = ridge_model.predict(Z_test)\n",
    "sub = test_frame[['Id','SalePrice']]\n",
    "sub.to_csv('./subs/ridged20.csv',index=False)"
   ]
  }
 ],
 "metadata": {
  "kernelspec": {
   "display_name": "Python 3",
   "language": "python",
   "name": "python3"
  },
  "language_info": {
   "codemirror_mode": {
    "name": "ipython",
    "version": 3
   },
   "file_extension": ".py",
   "mimetype": "text/x-python",
   "name": "python",
   "nbconvert_exporter": "python",
   "pygments_lexer": "ipython3",
   "version": "3.8.8"
  }
 },
 "nbformat": 4,
 "nbformat_minor": 5
}
